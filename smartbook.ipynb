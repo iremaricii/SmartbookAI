{
  "nbformat": 4,
  "nbformat_minor": 0,
  "metadata": {
    "colab": {
      "provenance": [],
      "authorship_tag": "ABX9TyO+qpQPttwWHdy33kNfriB4",
      "include_colab_link": true
    },
    "kernelspec": {
      "name": "python3",
      "display_name": "Python 3"
    },
    "language_info": {
      "name": "python"
    }
  },
  "cells": [
    {
      "cell_type": "markdown",
      "metadata": {
        "id": "view-in-github",
        "colab_type": "text"
      },
      "source": [
        "<a href=\"https://colab.research.google.com/github/iremaricii/SmartbookAI/blob/main/smartbook.ipynb\" target=\"_parent\"><img src=\"https://colab.research.google.com/assets/colab-badge.svg\" alt=\"Open In Colab\"/></a>"
      ]
    },
    {
      "cell_type": "code",
      "source": [
        "!pip install pandas scikit-learn sentence-transformers gradio\n"
      ],
      "metadata": {
        "id": "HlFPzmS7I73-"
      },
      "execution_count": null,
      "outputs": []
    },
    {
      "cell_type": "code",
      "source": [
        "# Veri setini indir\n",
        "!wget https://raw.githubusercontent.com/zygmuntz/goodbooks-10k/master/books.csv\n",
        "\n",
        "import pandas as pd\n",
        "\n",
        "# Kitap verisini oku\n",
        "df = pd.read_csv(\"books.csv\")\n",
        "\n",
        "# Gerekli sütunları seç\n",
        "df = df[['title', 'authors', 'average_rating', 'language_code']]\n",
        "df = df[df['language_code'] == 'eng'].dropna().reset_index(drop=True)\n",
        "\n",
        "# Embedding için metin oluştur\n",
        "df[\"text\"] = df[\"title\"] + \" by \" + df[\"authors\"]\n",
        "\n",
        "df[[\"title\", \"authors\", \"average_rating\", \"text\"]].head()\n"
      ],
      "metadata": {
        "id": "k4qjXRSiI-SD"
      },
      "execution_count": null,
      "outputs": []
    },
    {
      "cell_type": "code",
      "source": [
        "from sentence_transformers import SentenceTransformer, util\n",
        "import torch\n",
        "\n",
        "# Modeli yükle\n",
        "model = SentenceTransformer('all-MiniLM-L6-v2')\n",
        "\n",
        "# Tüm kitap açıklamalarını encode et\n",
        "book_embeddings = model.encode(df[\"text\"].tolist(), convert_to_tensor=True)\n"
      ],
      "metadata": {
        "id": "w3lg8_96I_Lf"
      },
      "execution_count": 9,
      "outputs": []
    },
    {
      "cell_type": "code",
      "source": [
        "# Kullanıcıdan örnek metin\n",
        "kullanici_girdisi = \"I like science fiction and psychological books. I'm feeling a bit stressed but focused today.\"\n",
        "\n",
        "# Kullanıcı metnini encode et\n",
        "kullanici_embedding = model.encode(kullanici_girdisi, convert_to_tensor=True)\n",
        "\n",
        "# Benzerlik hesapla\n",
        "cosine_scores = util.cos_sim(kullanici_embedding, book_embeddings)[0]\n",
        "\n",
        "# En benzer 3 kitabı bul\n",
        "top_k = torch.topk(cosine_scores, k=3)\n",
        "\n",
        "# Sonuçları yazdır\n",
        "print(\"📚 Önerilen Kitaplar:\\n\")\n",
        "for score, idx in zip(top_k.values, top_k.indices):\n",
        "    i = idx.item()\n",
        "    print(f\"{df.iloc[i]['title']} by {df.iloc[i]['authors']} — Skor: {score:.4f}\")\n"
      ],
      "metadata": {
        "id": "-xZMMDIfJAqN"
      },
      "execution_count": null,
      "outputs": []
    },
    {
      "cell_type": "code",
      "source": [
        "# Kullanıcının günlük okuma süresi (dakika)\n",
        "gunluk_okuma_suresi = 20\n",
        "\n",
        "# Ortalama kitap uzunluğu (sayfa)\n",
        "ortalama_sayfa_sayisi = 300\n",
        "\n",
        "# Okuma hızı: 1 sayfa/dk → toplam dakika = 300\n",
        "toplam_okuma_suresi_dk = ortalama_sayfa_sayisi\n",
        "gunluk_okuma_suresi_dk = gunluk_okuma_suresi\n",
        "\n",
        "# Tahmini gün sayısı\n",
        "tahmini_gun = toplam_okuma_suresi_dk / gunluk_okuma_suresi_dk\n",
        "\n",
        "print(f\"\\n📖 Ortalama bir kitabı günde {gunluk_okuma_suresi_dk} dakika okuyarak yaklaşık {round(tahmini_gun)} günde bitirebilirsin.\")\n"
      ],
      "metadata": {
        "id": "eAuInj9hJZxw"
      },
      "execution_count": null,
      "outputs": []
    },
    {
      "cell_type": "code",
      "source": [
        "def kitap_oner(ilgi_alanlari, ruh_hali, gunluk_dk):\n",
        "    if not ilgi_alanlari:\n",
        "        return \"📌 Lütfen en az bir ilgi alanı seç!\", None, None, None\n",
        "\n",
        "    kullanici_girdisi = f\"I like {', '.join(ilgi_alanlari)} books. I'm feeling {ruh_hali.lower()} today.\"\n",
        "    kullanici_embedding = model.encode(kullanici_girdisi, convert_to_tensor=True)\n",
        "    cosine_scores = util.cos_sim(kullanici_embedding, book_embeddings)[0]\n",
        "    top_k = torch.topk(cosine_scores, k=3)\n",
        "\n",
        "    kitap_listesi = \"\"\n",
        "    kapaklar = []\n",
        "    kitap_adlari = []\n",
        "\n",
        "    for score, idx in zip(top_k.values, top_k.indices):\n",
        "        i = idx.item()\n",
        "        kitap_adlari.append(df.iloc[i]['title'])\n",
        "        kitap_listesi += f\"📘 <b>{df.iloc[i]['title']}</b> by <i>{df.iloc[i]['authors']}</i><br>Skor: <b>{score:.4f}</b><br><br>\"\n",
        "        kapaklar.append(df.iloc[i]['image_url'])\n",
        "\n",
        "    tahmini_gun = round(300 / max(1, gunluk_dk))\n",
        "\n",
        "    sonuc = f\"\"\"\\\n",
        "<div style=\"background-color:#F9F9F9; padding: 10px; border-radius: 12px;\">\n",
        "<h3>📚 Önerilen Kitaplar</h3>\n",
        "{kitap_listesi}\n",
        "<hr>\n",
        "<h4>⏱ Okuma Süresi Tahmini</h4>\n",
        "Günde <b>{gunluk_dk}</b> dakika okuyarak bu kitapları yaklaşık <b>{tahmini_gun} günde</b> bitirebilirsin.\n",
        "</div>\n",
        "\"\"\"\n",
        "    return sonuc, kapaklar[0], kapaklar[1], kapaklar[2]\n"
      ],
      "metadata": {
        "id": "Hfo2kCTmK1IC"
      },
      "execution_count": 16,
      "outputs": []
    },
    {
      "cell_type": "code",
      "source": [
        "import gradio as gr\n",
        "from sentence_transformers import SentenceTransformer, util\n",
        "import pandas as pd\n",
        "import torch\n",
        "\n",
        "# Veri yükleme\n",
        "df = pd.read_csv(\"books.csv\")\n",
        "df = df[['title', 'authors', 'average_rating', 'language_code', 'image_url']]\n",
        "df = df[df['language_code'] == 'eng'].dropna().reset_index(drop=True)\n",
        "df[\"text\"] = df[\"title\"] + \" by \" + df[\"authors\"]\n",
        "\n",
        "# Model yükleme\n",
        "model = SentenceTransformer('all-MiniLM-L6-v2')\n",
        "book_embeddings = model.encode(df[\"text\"].tolist(), convert_to_tensor=True)\n",
        "\n",
        "# Öneri fonksiyonu (kapak + kitap bir arada)\n",
        "def kitap_oner(ilgi_alanlari, ruh_hali, gunluk_dk):\n",
        "    if not ilgi_alanlari:\n",
        "        return \"<p style='color:red;'>📌 Lütfen en az bir ilgi alanı seç!</p>\"\n",
        "\n",
        "    kullanici_girdisi = f\"I like {', '.join(ilgi_alanlari)} books. I'm feeling {ruh_hali.lower()} today.\"\n",
        "    kullanici_embedding = model.encode(kullanici_girdisi, convert_to_tensor=True)\n",
        "    cosine_scores = util.cos_sim(kullanici_embedding, book_embeddings)[0]\n",
        "    top_k = torch.topk(cosine_scores, k=3)\n",
        "\n",
        "    # Kartları HTML ile oluştur\n",
        "    kart_html = \"\"\n",
        "    for score, idx in zip(top_k.values, top_k.indices):\n",
        "        i = idx.item()\n",
        "        title = df.iloc[i]['title']\n",
        "        author = df.iloc[i]['authors']\n",
        "        image_url = df.iloc[i]['image_url']\n",
        "        skor = f\"{score:.4f}\"\n",
        "\n",
        "        kart_html += f\"\"\"\n",
        "        <div style=\"flex: 1; margin: 10px; padding: 10px; border-radius: 12px;\n",
        "            background-color: #f9f9f9; box-shadow: 2px 2px 8px rgba(0,0,0,0.1); text-align:center;\">\n",
        "            <img src=\"{image_url}\" style=\"width:110px; height:160px; border-radius:8px; box-shadow: 1px 1px 5px #ccc;\"><br><br>\n",
        "            <b>{title}</b><br>\n",
        "            <i>{author}</i><br>\n",
        "            📊 <b>Skor:</b> {skor}\n",
        "        </div>\n",
        "        \"\"\"\n",
        "\n",
        "    tahmini_gun = round(300 / max(1, gunluk_dk))\n",
        "\n",
        "    sonuc_html = f\"\"\"\n",
        "    <div style=\"margin-top: 20px;\">\n",
        "        <h3 style=\"text-align:center; color:#5E60CE;\">📚 Önerilen Kitaplar</h3>\n",
        "        <div style=\"display:flex; justify-content: space-around;\">{kart_html}</div>\n",
        "        <hr>\n",
        "        <p style=\"text-align:center;\">⏱ Günde <b>{gunluk_dk}</b> dakika okuyarak bu kitapları yaklaşık\n",
        "        <b>{tahmini_gun} günde</b> bitirebilirsin.</p>\n",
        "    </div>\n",
        "    \"\"\"\n",
        "\n",
        "    return sonuc_html\n",
        "\n",
        "# İlgi alanı ve ruh hali seçenekleri\n",
        "kategori_listesi = [\n",
        "    \"📖 Science Fiction\", \"💘 Romance\", \"🏰 Historical\", \"🧩 Thriller\",\n",
        "    \"🐉 Fantasy\", \"🧠 Psychology\", \"🌱 Self-Help\", \"👤 Biography\",\n",
        "    \"🕵️ Mystery\", \"🌍 Adventure\"\n",
        "]\n",
        "\n",
        "ruh_halleri = [\"😊 Happy\", \"😞 Sad\", \"🎯 Focused\", \"😬 Anxious\", \"🚀 Motivated\", \"😴 Tired\"]\n",
        "\n",
        "# Gradio Arayüzü\n",
        "with gr.Blocks(theme=gr.themes.Soft()) as demo:\n",
        "    gr.Markdown(\n",
        "        \"\"\"<div style='text-align: center'>\n",
        "        <h1 style='color: #5E60CE;'>📘 SmartBook AI</h1>\n",
        "        <p style='font-size: 16px;'>💡 İlgi alanlarına ve ruh haline göre kitap önerisi yapar,<br>\n",
        "        ve okuma süresini tahmin eder.</p>\n",
        "        </div>\"\"\"\n",
        "    )\n",
        "\n",
        "    with gr.Row():\n",
        "        with gr.Column():\n",
        "            ilgi = gr.CheckboxGroup(choices=kategori_listesi, label=\"✨ İlgi Alanlarını Seç\", info=\"Birden fazla seçebilirsin.\")\n",
        "            ruh = gr.Dropdown(choices=ruh_halleri, label=\"🌈 Bugünkü Ruh Halin\")\n",
        "            sure = gr.Slider(5, 120, value=30, step=5, label=\"⏱ Günlük Okuma Süren (dk)\")\n",
        "            buton = gr.Button(\"🔍 Bana Kitap Öner!\")\n",
        "\n",
        "        with gr.Column():\n",
        "            sonuc = gr.HTML(label=\"📘 Önerilen Kitaplar\")\n",
        "\n",
        "    buton.click(fn=kitap_oner, inputs=[ilgi, ruh, sure], outputs=[sonuc])\n",
        "\n",
        "demo.launch()\n"
      ],
      "metadata": {
        "id": "2UHfc9BaLCjk"
      },
      "execution_count": null,
      "outputs": []
    }
  ]
}